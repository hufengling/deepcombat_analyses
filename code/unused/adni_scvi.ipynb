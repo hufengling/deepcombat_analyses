{
 "cells": [
  {
   "cell_type": "code",
   "execution_count": 15,
   "id": "61125836-8c26-4efb-92d7-90452c3983b6",
   "metadata": {
    "tags": []
   },
   "outputs": [],
   "source": [
    "import scanpy as sc\n",
    "import scvi\n",
    "import covbat\n",
    "\n",
    "import warnings\n",
    "#warnings.simplefilter(action='ignore', category=FutureWarning)\n",
    "warnings.filterwarnings(\"ignore\")\n",
    "import pandas as pd\n",
    "import numpy as np\n",
    "import numpy.random\n",
    "import matplotlib.pyplot as plt\n",
    "import pingouin as pg\n",
    "import anndata\n",
    "import sklearn\n",
    "import sklearn.metrics\n",
    "from sklearn.ensemble import RandomForestClassifier\n",
    "from sklearn.ensemble import RandomForestRegressor\n",
    "import patsy\n",
    "\n",
    "import torch\n",
    "import torch.nn as nn\n",
    "import torch.nn.functional as F\n",
    "import torch.optim as optim\n",
    "\n",
    "import rpy2.robjects as ro\n",
    "from rpy2.robjects.packages import importr\n",
    "from rpy2.robjects import pandas2ri\n",
    "pandas2ri.activate()\n",
    "neuroCombat = importr('neuroCombat')"
   ]
  },
  {
   "cell_type": "code",
   "execution_count": 2,
   "id": "ba919838-b997-49f9-aeb4-91e299128fff",
   "metadata": {
    "tags": []
   },
   "outputs": [],
   "source": [
    "scale = 1000000\n",
    "adni_all = pd.read_csv(\"/home/fengling/Documents/nnbatch/data/raw/ADNI_ANTsSST_protocol_2019_03_14.csv\")\n",
    "adni_all[\"site\"] = adni_all[\"site\"].astype(\"category\")\n",
    "#adni_all = adni_all.groupby(\"subid\").tail(1) # select last visit for each subject\n",
    "adni_all = adni_all.assign(manufac = lambda x: x['manufac'].map(lambda y: True if y == \"Siemens\" else False))\n",
    "adni_x = adni_all.iloc[:, 42:].reset_index(drop = True)\n",
    "adni_obsm = adni_all.iloc[:, 0:42].reset_index(drop = True)\n",
    "\n",
    "random_vec = numpy.zeros(adni_obsm.shape[0], dtype=\"U8\")\n",
    "random_choices = [\"Random_1\", \"Random_2\"]\n",
    "for i in range(adni_obsm.shape[0]):\n",
    "    if adni_obsm[\"manufac\"][i]:\n",
    "        random_vec[i] = random_choices[numpy.random.binomial(1, 0.3)]\n",
    "    else:\n",
    "        random_vec[i] = random_choices[numpy.random.binomial(1, 0.7)]\n",
    "adni_obsm[\"Random\"] = random_vec\n",
    "\n",
    "adata = sc.AnnData(X = adni_x, obs = adni_obsm)\n",
    "adata.layers[\"raw\"] = adata.X.copy()\n",
    "adata.layers[\"scaled\"] = np.round(adata.X.copy() * scale)"
   ]
  },
  {
   "cell_type": "code",
   "execution_count": 3,
   "id": "04835107-bb78-401d-a64e-1db4ced0914e",
   "metadata": {
    "tags": []
   },
   "outputs": [],
   "source": [
    "def plot_pca_umap(adata, layer_key: str, umap_min_dist: float, color: list, \n",
    "                  use_obsm = False):\n",
    "    if use_obsm:\n",
    "        adata_tmp = sc.AnnData(X = adata.obsm[layer_key], obs = adata.obs)\n",
    "    else:\n",
    "        adata_tmp = adata.copy()\n",
    "        if layer_key != \"X\":\n",
    "            adata_tmp.X = adata_tmp.layers[layer_key]\n",
    "    pc_num = min([adata_tmp.X.shape[1] - 1, 50])\n",
    "    sc.tl.pca(adata_tmp, svd_solver='arpack', n_comps = pc_num)\n",
    "    sc.pp.neighbors(adata_tmp, n_pcs = pc_num, n_neighbors = 10)\n",
    "    sc.tl.umap(adata_tmp, min_dist = umap_min_dist, maxiter = 500)\n",
    "    print(\"Plots for: \" + layer_key)\n",
    "    print(\"UMAP\")\n",
    "    sc.pl.umap(adata_tmp,\n",
    "           color = color,\n",
    "           frameon = False,)\n",
    "    print(\"PCA\")\n",
    "    sc.pl.pca(adata_tmp, \n",
    "          color = color,\n",
    "         frameon = False)\n",
    "\n",
    "# def evaluate_cluster_metrics(adata, layer_key: str, batch_key: str, \n",
    "#                           shuffle_y = False, verbose = False, \n",
    "#                           use_obsm = False) -> list:\n",
    "#     if use_obsm:\n",
    "#         adata_tmp = sc.AnnData(X = adata.obsm[layer_key], obs = adata.obs)\n",
    "#     else:\n",
    "#         adata_tmp = adata.copy()\n",
    "#         if layer_key != \"X\":\n",
    "#             adata_tmp.X = adata_tmp.layers[layer_key]\n",
    "#     x = adata_tmp.X.copy()\n",
    "#     y = adata_tmp.obs[batch_key].copy().to_numpy()\n",
    "#     if shuffle_y:\n",
    "#         if verbose:\n",
    "#             print(\"Calculating metrics under the null for: \" + batch_key)\n",
    "#         numpy.random.shuffle(y)\n",
    "#     if verbose:\n",
    "#         print(\"Calculating metrics for: \" + batch_key)\n",
    "#     xy_df = pd.DataFrame(x)\n",
    "#     xy_df[batch_key] = y\n",
    "\n",
    "#     # get random forest OOB for ability to predict batch_key\n",
    "#     rf = RandomForestClassifier(n_estimators = 100, oob_score = True).fit(x, y)\n",
    "#     rf_oob = rf.oob_score_\n",
    "#     if verbose:\n",
    "#         print(\"Random forest OOB: \" + str(rf_oob))\n",
    "\n",
    "#     # get ANOVA p-values\n",
    "#     f_stats = []\n",
    "#     for i in range(x.shape[1]):\n",
    "#         f_stats.append(pg.anova(data = xy_df, dv = i, between = batch_key, detailed = True).F[0])\n",
    "#     mean_f_stat = np.mean(f_stats)\n",
    "#     if verbose:\n",
    "#         print(\"Average ANOVA F-stat: \" + str(mean_f_stat))\n",
    "    \n",
    "#     # get silhouette score\n",
    "#     sil_score = sklearn.metrics.silhouette_score(x, labels = y)\n",
    "#     if verbose:\n",
    "#         print(\"Silhouette score: \" + str(sil_score)\n",
    "    \n",
    "#     # get kBET results\n",
    "#     r_x = ro.conversion.py2rpy(pd.DataFrame(x))\n",
    "#     r_y = ro.conversion.py2rpy(y)\n",
    "#     kbet_out = kbet.kBET(r_x, r_y, plot = False)\n",
    "#     kbet_pval = kbet_out.rx(\"average.pval\")[0][0]\n",
    "#     if verbose:\n",
    "#         print(\"kBET p-value is: \" + str(kbet_pval))\n",
    "    \n",
    "#     metrics = [rf_oob, mean_f_stat, sil_score, kbet_pval]\n",
    "#     return metrics"
   ]
  },
  {
   "cell_type": "code",
   "execution_count": 4,
   "id": "0e0d4025-f9df-4588-b84e-86c8828e31dd",
   "metadata": {
    "tags": []
   },
   "outputs": [],
   "source": [
    "def evaluate_cluster_rf(adata, layer_key: str, cluster_key: str, is_categorical = True,\n",
    "                           shuffle_y = False, verbose = False, use_obsm = False):\n",
    "    if use_obsm:\n",
    "        adata_tmp = sc.AnnData(X = adata.obsm[layer_key], obs = adata.obs)\n",
    "    else:\n",
    "        adata_tmp = adata.copy()\n",
    "        if layer_key != \"X\":\n",
    "            adata_tmp.X = adata_tmp.layers[layer_key]\n",
    "    x = adata_tmp.X.copy()\n",
    "    y = adata_tmp.obs[cluster_key].copy().to_numpy()\n",
    "    if shuffle_y:\n",
    "        if verbose:\n",
    "            print(\"Calculating metrics under the null for: \" + cluster_key)\n",
    "        numpy.random.shuffle(y)\n",
    "    if verbose:\n",
    "        print(\"Calculating metrics for: \" + cluster_key)\n",
    "    xy_df = pd.DataFrame(x)\n",
    "    xy_df[cluster_key] = y\n",
    "    \n",
    "    # get random forest OOB for ability to predict batch_key\n",
    "    if is_categorical:\n",
    "        rf = RandomForestClassifier(n_estimators = 100, oob_score = True).fit(x, y)\n",
    "        rf_oob = rf.oob_score_\n",
    "    else:\n",
    "        rf = RandomForestRegressor(oob_score = True).fit(x, y)\n",
    "        rf_oob = rf.oob_score_\n",
    "    if verbose:\n",
    "        print(\"Random forest OOB: \" + str(rf_oob))\n",
    "    \n",
    "    return rf_oob"
   ]
  },
  {
   "cell_type": "code",
   "execution_count": 5,
   "id": "4030e2f7-f83c-41cf-9799-ccf0daba507d",
   "metadata": {
    "tags": []
   },
   "outputs": [],
   "source": [
    "def evaluate_cluster_metrics(adata, layer_key: str, cluster_key: str, is_categorical = True,\n",
    "                           shuffle_y = False, verbose = False, use_obsm = False):\n",
    "    if use_obsm:\n",
    "        adata_tmp = sc.AnnData(X = adata.obsm[layer_key], obs = adata.obs)\n",
    "    else:\n",
    "        adata_tmp = adata.copy()\n",
    "        if layer_key != \"X\":\n",
    "            adata_tmp.X = adata_tmp.layers[layer_key]\n",
    "    x = adata_tmp.X.copy()\n",
    "    y = adata_tmp.obs[cluster_key].copy().to_numpy()\n",
    "    if shuffle_y:\n",
    "        if verbose:\n",
    "            print(\"Calculating metrics under the null for: \" + cluster_key)\n",
    "        numpy.random.shuffle(y)\n",
    "    if verbose:\n",
    "        print(\"Calculating metrics for: \" + cluster_key)\n",
    "    xy_df = pd.DataFrame(x)\n",
    "    xy_df[cluster_key] = y\n",
    "    \n",
    "    # get random forest OOB for ability to predict batch_key\n",
    "    if is_categorical:\n",
    "        rf = RandomForestClassifier(n_estimators = 100, oob_score = True).fit(x, y)\n",
    "        rf_oob = rf.oob_score_\n",
    "    else:\n",
    "        rf = RandomForestRegressor(oob_score = True).fit(x, y)\n",
    "        rf_oob = rf.oob_score_\n",
    "    if verbose:\n",
    "        print(\"Random forest OOB: \" + str(rf_oob))\n",
    "    \n",
    "    # get ANOVA p-values\n",
    "    f_stats = []\n",
    "    if is_categorical:\n",
    "        for i in range(x.shape[1]):\n",
    "            f_stats.append(pg.anova(data = xy_df, dv = i, between = cluster_key, detailed = True).F[0])\n",
    "    else:\n",
    "        for i in range(x.shape[1]):\n",
    "            f_stats.append(np.absolute(pg.linear_regression(X = xy_df[cluster_key], y = xy_df.iloc[:, i])[\"T\"][1]))\n",
    "        r2 = pg.linear_regression(X = xy_df.iloc[:, 1:x.shape[1]], y = xy_df[cluster_key])[\"r2\"][0]\n",
    "    mean_f_stat = np.mean(f_stats)\n",
    "    if verbose:\n",
    "        print(\"Average ANOVA F-stat: \" + str(mean_f_stat))\n",
    "        if not is_categorical:\n",
    "            print(\"R^2 is: \" + str(r2))\n",
    "    \n",
    "    if not is_categorical:\n",
    "        if verbose:\n",
    "            print(\"\")\n",
    "        metrics = [rf_oob, mean_f_stat, r2]\n",
    "        return metrics\n",
    "\n",
    "    if is_categorical:\n",
    "        # get silhouette score\n",
    "        sil_score = sklearn.metrics.silhouette_score(x, labels = y)\n",
    "        if verbose:\n",
    "            print(\"Silhouette score: \" + str(sil_score))\n",
    "                  \n",
    "#         # get kBET results\n",
    "#         r_x = ro.conversion.py2rpy(pd.DataFrame(x))\n",
    "#         r_y = ro.conversion.py2rpy(y)\n",
    "#         kbet_out = kbet.kBET(r_x, r_y, plot = False)\n",
    "#         kbet_pval = kbet_out.rx(\"average.pval\")[0][0]\n",
    "#         if verbose:\n",
    "#             print(\"kBET p-value is: \" + str(kbet_pval))\n",
    "                  \n",
    "#         # get LISI scores\n",
    "#         tmp_y = pd.DataFrame(pd.factorize(y)[0])\n",
    "#         r_y = ro.conversion.py2rpy(tmp_y.set_axis([cluster_key], axis = 1))\n",
    "#         lisi_out = np.mean(lisi.compute_lisi(r_x, r_y, label_colnames = cluster_key)).tolist()[0]\n",
    "#         if verbose:\n",
    "#             print(\"LISI score is: \" + str(lisi_out))\n",
    "    \n",
    "    if verbose:\n",
    "        print(\"\")\n",
    "    metrics = [rf_oob, mean_f_stat, sil_score]\n",
    "    return metrics\n",
    "\n",
    "def evaluate_all_clusters(adata, layer_key_list: list, obsm_key_list: list, cluster_key_list: list, quant_key_list: list, shuffle_y = False, verbose = False):\n",
    "    use_obsm_list = [False] * len(layer_key_list) + [True] * len(obsm_key_list)\n",
    "    all_layers_list = layer_key_list + obsm_key_list\n",
    "    \n",
    "    is_categorical_list = [True] * len(cluster_key_list) + [False] * len(quant_key_list)\n",
    "    all_clusters_list = cluster_key_list + quant_key_list\n",
    "    \n",
    "    metrics_by_layer_list = []\n",
    "    for i in range(len(all_layers_list)):\n",
    "        if verbose:\n",
    "            print(\"Calculating metrics for: \" + all_layers_list[i])\n",
    "        tmp_metrics_list = []\n",
    "        for j in range(len(all_clusters_list)):\n",
    "            tmp_metrics_list = tmp_metrics_list + evaluate_cluster_metrics(adata, all_layers_list[i], all_clusters_list[j], \n",
    "                                                                           is_categorical = is_categorical_list[j], use_obsm = use_obsm_list[i],\n",
    "                                                                           shuffle_y = shuffle_y, verbose = verbose)\n",
    "        metrics_by_layer_list.append(tmp_metrics_list)\n",
    "    \n",
    "    metrics_df = pd.DataFrame(metrics_by_layer_list)\n",
    "    return metrics_df\n",
    "    "
   ]
  },
  {
   "cell_type": "code",
   "execution_count": 6,
   "id": "69ef60fd-8c24-4fd0-86cd-64d5e327122a",
   "metadata": {
    "tags": []
   },
   "outputs": [],
   "source": [
    "def combat_r(dat, batch, mod = None, eb = True, parametric = True, mean_only = False, ref_batch = None, verbose = True):\n",
    "    r_dat = ro.conversion.py2rpy(dat)\n",
    "    r_batch = ro.conversion.py2rpy(batch)\n",
    "    if type(mod) != \"NoneType\" and type(ref_batch) != \"NoneType\":\n",
    "        r_mod = ro.conversion.py2rpy(mod)\n",
    "        neuroCombat_out = neuroCombat.neuroCombat(r_dat, r_batch, r_mod, eb, parametric, mean_only, verbose = verbose)\n",
    "        return neuroCombat_out[0].transpose()\n",
    "    else:\n",
    "        raise ValueError(\"Not yet implemented - mod and ref_batch must be None.\")"
   ]
  },
  {
   "cell_type": "code",
   "execution_count": 9,
   "id": "33fa5f22-8a51-4c26-a13c-08ec953f359b",
   "metadata": {
    "tags": []
   },
   "outputs": [
    {
     "name": "stdout",
     "output_type": "stream",
     "text": [
      "[neuroCombat] Performing ComBat with empirical Bayes\n",
      "[neuroCombat] Found 2 batches\n",
      "[neuroCombat] Adjusting for  5  covariate(s) or covariate level(s)\n",
      "[neuroCombat] Standardizing Data across features\n",
      "[neuroCombat] Fitting L/S model and finding priors\n",
      "[neuroCombat] Finding parametric adjustments\n",
      "[neuroCombat] Adjusting the Data\n",
      "Adjusting data\n"
     ]
    },
    {
     "name": "stderr",
     "output_type": "stream",
     "text": [
      "found 2 batches\n",
      "found 1 numerical covariates...\n",
      "\tAGE\n",
      "found 4 categorical variables:\tSEX[T.M], DIAGNOSIS[T.CN], DIAGNOSIS[T.LMCI], Random[T.Random_2]\n",
      "Standardizing Data across genes.\n",
      "Fitting L/S model and finding priors\n",
      "Finding parametric adjustments\n",
      "found 2 batches\n",
      "found 0 numerical covariates...\n",
      "found 0 categorical variables:\t\n",
      "Standardizing Data across genes.\n",
      "Fitting L/S model and finding priors\n",
      "Finding parametric adjustments\n"
     ]
    },
    {
     "name": "stdout",
     "output_type": "stream",
     "text": [
      "Adjusting data\n"
     ]
    }
   ],
   "source": [
    "dat_adni = pd.DataFrame(adata.X.copy().transpose()).astype('float64', copy = False)\n",
    "pheno_adni = adata.obs.copy()\n",
    "\n",
    "dat_adni.set_axis([str(x) for x in dat_adni.columns.values], axis = 1, inplace = True)\n",
    "pheno_adni.set_axis([str(x) for x in dat_adni.columns.values], axis = 0, inplace = True)\n",
    "#pheno_adni[\"manufac\"] = pd.factorize(pheno_adni[\"manufac\"])[0]\n",
    "\n",
    "design_df = patsy.dmatrix(\"~ AGE + SEX + DIAGNOSIS + Random\", pheno_adni, return_type = \"dataframe\")\n",
    "adata.layers[\"combat\"] = combat_r(dat_adni, pheno_adni[\"manufac\"], design_df)\n",
    "\n",
    "design_df = patsy.dmatrix(\"~ AGE + SEX + DIAGNOSIS + Random\", pheno_adni, return_type = \"dataframe\")\n",
    "adata.layers[\"covbat\"] = covbat.covbat(data = dat_adni, \n",
    "                                       batch = pheno_adni[\"manufac\"], \n",
    "                                       model = design_df,\n",
    "                                       numerical_covariates = \"AGE\").transpose()"
   ]
  },
  {
   "cell_type": "code",
   "execution_count": 16,
   "id": "89dd2f12-fbfb-4353-b40c-431755ca7cdc",
   "metadata": {},
   "outputs": [
    {
     "name": "stdout",
     "output_type": "stream",
     "text": [
      "\u001b[34mINFO    \u001b[0m Using batches from adata.obs\u001b[1m[\u001b[0m\u001b[32m\"manufac\"\u001b[0m\u001b[1m]\u001b[0m                                             \n",
      "\u001b[34mINFO    \u001b[0m No label_key inputted, assuming all cells have same label                           \n",
      "\u001b[34mINFO    \u001b[0m Using data from adata.layers\u001b[1m[\u001b[0m\u001b[32m\"scaled\"\u001b[0m\u001b[1m]\u001b[0m                                              \n",
      "\u001b[34mINFO    \u001b[0m Successfully registered anndata object containing \u001b[1;36m2515\u001b[0m cells, \u001b[1;36m62\u001b[0m vars, \u001b[1;36m2\u001b[0m batches, \u001b[1;36m1\u001b[0m \n",
      "         labels, and \u001b[1;36m0\u001b[0m proteins. Also registered \u001b[1;36m3\u001b[0m extra categorical covariates and \u001b[1;36m1\u001b[0m extra  \n",
      "         continuous covariates.                                                              \n",
      "\u001b[34mINFO    \u001b[0m Please do not further modify adata until model is trained.                          \n"
     ]
    },
    {
     "name": "stderr",
     "output_type": "stream",
     "text": [
      "GPU available: False, used: False\n",
      "TPU available: False, using: 0 TPU cores\n"
     ]
    },
    {
     "name": "stdout",
     "output_type": "stream",
     "text": [
      "Epoch 400/400: 100%|███████████████████| 400/400 [02:03<00:00,  3.25it/s, loss=853, v_num=1]\n"
     ]
    }
   ],
   "source": [
    "scvi.model.SCVI.setup_anndata(adata, layer = \"scaled\", batch_key = \"manufac\",\n",
    "                             categorical_covariate_keys = [\"DIAGNOSIS\", \"SEX\", \"Random\"],\n",
    "                             continuous_covariate_keys = [\"AGE\"])\n",
    "model = scvi.model.SCVI(adata, n_layers = 2, n_latent = 3, dispersion = \"gene\", gene_likelihood = \"nb\")\n",
    "model.train(max_epochs = 400, batch_size = 64)#, plan_kwargs = {\"lr\": 0.01, \"reduce_lr_on_plateau\": True, \"lr_scheduler_metric\": \"train_loss_epoch\"})\n",
    "adata.obsm[\"scvi\"] = model.get_latent_representation()"
   ]
  },
  {
   "cell_type": "code",
   "execution_count": 13,
   "id": "990a8e99-0a15-4ed3-a4f5-da04d1108625",
   "metadata": {},
   "outputs": [
    {
     "name": "stdout",
     "output_type": "stream",
     "text": [
      "\u001b[34mINFO    \u001b[0m Using batches from adata.obs\u001b[1m[\u001b[0m\u001b[32m\"manufac\"\u001b[0m\u001b[1m]\u001b[0m                                             \n",
      "\u001b[34mINFO    \u001b[0m No label_key inputted, assuming all cells have same label                           \n",
      "\u001b[34mINFO    \u001b[0m Using data from adata.layers\u001b[1m[\u001b[0m\u001b[32m\"combat_scaled\"\u001b[0m\u001b[1m]\u001b[0m                                       \n",
      "\u001b[34mINFO    \u001b[0m Successfully registered anndata object containing \u001b[1;36m2515\u001b[0m cells, \u001b[1;36m62\u001b[0m vars, \u001b[1;36m2\u001b[0m batches, \u001b[1;36m1\u001b[0m \n",
      "         labels, and \u001b[1;36m0\u001b[0m proteins. Also registered \u001b[1;36m3\u001b[0m extra categorical covariates and \u001b[1;36m1\u001b[0m extra  \n",
      "         continuous covariates.                                                              \n",
      "\u001b[34mINFO    \u001b[0m Please do not further modify adata until model is trained.                          \n"
     ]
    },
    {
     "name": "stderr",
     "output_type": "stream",
     "text": [
      "GPU available: False, used: False\n",
      "TPU available: False, using: 0 TPU cores\n"
     ]
    },
    {
     "name": "stdout",
     "output_type": "stream",
     "text": [
      "Epoch 400/400: 100%|███████████████████| 400/400 [02:15<00:00,  2.95it/s, loss=852, v_num=1]\n"
     ]
    }
   ],
   "source": [
    "adata.layers[\"combat_scaled\"] = np.round(adata.layers[\"combat\"] * scale)\n",
    "\n",
    "scvi.model.SCVI.setup_anndata(adata, layer = \"combat_scaled\", batch_key = \"manufac\",\n",
    "                             categorical_covariate_keys = [\"DIAGNOSIS\", \"SEX\", \"Random\"],\n",
    "                             continuous_covariate_keys = [\"AGE\"])\n",
    "model = scvi.model.SCVI(adata, n_layers = 2, n_latent = 3, dispersion = \"gene\", gene_likelihood = \"nb\")\n",
    "model.train(max_epochs = 400, batch_size = 64)#, plan_kwargs = {\"lr\": 0.01, \"reduce_lr_on_plateau\": True, \"lr_scheduler_metric\": \"train_loss_epoch\"})\n",
    "adata.obsm[\"combat_scvi\"] = model.get_latent_representation()"
   ]
  },
  {
   "cell_type": "code",
   "execution_count": 18,
   "id": "c991124f-b7bf-4c4e-9769-98b258e9c789",
   "metadata": {
    "tags": []
   },
   "outputs": [
    {
     "name": "stdout",
     "output_type": "stream",
     "text": [
      "\u001b[34mINFO    \u001b[0m Input adata not setup with scvi. attempting to transfer anndata setup               \n",
      "\u001b[34mINFO    \u001b[0m Using data from adata.layers\u001b[1m[\u001b[0m\u001b[32m\"scaled\"\u001b[0m\u001b[1m]\u001b[0m                                              \n",
      "\u001b[34mINFO    \u001b[0m Registered keys:\u001b[1m[\u001b[0m\u001b[32m'X'\u001b[0m, \u001b[32m'batch_indices'\u001b[0m, \u001b[32m'labels'\u001b[0m, \u001b[32m'cat_covs'\u001b[0m, \u001b[32m'cont_covs'\u001b[0m\u001b[1m]\u001b[0m           \n",
      "\u001b[34mINFO    \u001b[0m Successfully registered anndata object containing \u001b[1;36m2515\u001b[0m cells, \u001b[1;36m62\u001b[0m vars, \u001b[1;36m2\u001b[0m batches, \u001b[1;36m1\u001b[0m \n",
      "         labels, and \u001b[1;36m0\u001b[0m proteins. Also registered \u001b[1;36m3\u001b[0m extra categorical covariates and \u001b[1;36m1\u001b[0m extra  \n",
      "         continuous covariates.                                                              \n"
     ]
    }
   ],
   "source": [
    "n = adata.shape[0]\n",
    "new_obs_df = pd.DataFrame({'_scvi_batch': np.array(np.repeat(2, n), dtype = \"int8\"),\n",
    "                          '_scvi_labels': adata.obs[\"_scvi_labels\"].to_numpy(),\n",
    "                          'manufac': np.array(np.repeat(True, n), dtype = \"object\")})\n",
    "new_obs_df.set_axis([str(x) for x in new_obs_df.index.values], axis = 0, inplace = True)\n",
    "adata_obs_dropped = adata.obs.copy().drop([\"_scvi_batch\", \"_scvi_labels\", \"manufac\"],\n",
    "                                          axis = 1)\n",
    "#new_obs_df = new_obs_df.join(adata_obs_dropped)\n",
    "\n",
    "new_obs_df = pd.concat([adata_obs_dropped, new_obs_df], axis = 1)\n",
    "\n",
    "adata_one_batch = sc.AnnData(X = adata.X, obs = new_obs_df, layers = adata.layers)\n",
    "\n",
    "n_samples = 1000\n",
    "tmp_sample = np.zeros([n, 62])\n",
    "for i in range(n_samples):\n",
    "    tmp_sample = tmp_sample + model.posterior_predictive_sample(adata_one_batch, n_samples=1)\n",
    "total_sample_siemens = tmp_sample"
   ]
  },
  {
   "cell_type": "code",
   "execution_count": 19,
   "id": "75759f1f-1016-42d2-8018-ad7595775feb",
   "metadata": {},
   "outputs": [],
   "source": [
    "adata.layers[\"scvi_posterior\"] = total_sample_siemens / n_samples / scale"
   ]
  },
  {
   "cell_type": "code",
   "execution_count": null,
   "id": "ddba30a0-d72b-41c9-ab5a-7a531d0ff136",
   "metadata": {},
   "outputs": [],
   "source": [
    "adata.layers[\"combat_scvi\"] = total_sample_siemens / n_samples / scale"
   ]
  },
  {
   "cell_type": "code",
   "execution_count": 27,
   "id": "e8bb613b-b240-4ebc-a99d-df16397481bd",
   "metadata": {},
   "outputs": [],
   "source": [
    "dat_adni_scvi_posterior = pd.DataFrame(adata.layers[\"scvi_posterior\"].transpose()).astype('float64', copy = False)"
   ]
  },
  {
   "cell_type": "code",
   "execution_count": 28,
   "id": "49afa50e-7e80-4f63-9ef6-50f8ba439d37",
   "metadata": {},
   "outputs": [
    {
     "name": "stdout",
     "output_type": "stream",
     "text": [
      "[neuroCombat] Performing ComBat with empirical Bayes\n",
      "[neuroCombat] Found 2 batches\n",
      "[neuroCombat] Adjusting for  5  covariate(s) or covariate level(s)\n",
      "[neuroCombat] Standardizing Data across features\n",
      "[neuroCombat] Fitting L/S model and finding priors\n",
      "[neuroCombat] Finding parametric adjustments\n",
      "[neuroCombat] Adjusting the Data\n"
     ]
    }
   ],
   "source": [
    "design_df = patsy.dmatrix(\"~ AGE + SEX + DIAGNOSIS + Random\", pheno_adni, return_type = \"dataframe\")\n",
    "adata.layers[\"scvi_combat\"] = combat_r(dat_adni_scvi_posterior, pheno_adni[\"manufac\"], design_df)"
   ]
  },
  {
   "cell_type": "code",
   "execution_count": 39,
   "id": "09e4c637-1b6d-419d-8af7-a0da44799f26",
   "metadata": {},
   "outputs": [
    {
     "name": "stdout",
     "output_type": "stream",
     "text": [
      "Calculating metrics for: scvi_posterior\n",
      "Calculating metrics for: manufac\n",
      "Random forest OOB: 0.8365805168986084\n",
      "Average ANOVA F-stat: 137.49208710330353\n",
      "Silhouette score: 0.04625597891193042\n",
      "\n",
      "Calculating metrics for: SEX\n",
      "Random forest OOB: 0.983300198807157\n",
      "Average ANOVA F-stat: 22.843939602871924\n",
      "Silhouette score: 0.018076124634080874\n",
      "\n",
      "Calculating metrics for: DIAGNOSIS\n",
      "Random forest OOB: 0.9753479125248509\n",
      "Average ANOVA F-stat: 147.43086033006546\n",
      "Silhouette score: -0.0027767029018464914\n",
      "\n",
      "Calculating metrics for: Random\n",
      "Random forest OOB: 0.7220675944333996\n",
      "Average ANOVA F-stat: 16.00435371422002\n",
      "Silhouette score: 0.0066034823362756696\n",
      "\n",
      "Calculating metrics for: AGE\n",
      "Random forest OOB: 0.9158531954622338\n",
      "Average ANOVA F-stat: 17.789416487068664\n",
      "R^2 is: 0.9069425531784299\n",
      "\n"
     ]
    }
   ],
   "source": [
    "metrics_scvi_posterior = evaluate_all_clusters(adata, [\"scvi_posterior\"], [], [\"manufac\", \"SEX\", \"DIAGNOSIS\", \"Random\"], [\"AGE\"], verbose = True)"
   ]
  },
  {
   "cell_type": "code",
   "execution_count": 16,
   "id": "e87b45f5-345b-4a47-b84d-87af4c06c413",
   "metadata": {
    "tags": []
   },
   "outputs": [],
   "source": [
    "tmp_metrics_null = np.zeros([1, 15])\n",
    "for i in range(5):\n",
    "    tmp_metrics_null = tmp_metrics_null + evaluate_all_clusters(adata, [\"scaled\"], [], [\"manufac\", \"SEX\", \"DIAGNOSIS\", \"Random\"], [\"AGE\"], shuffle_y = True)\n",
    "metrics_null = tmp_metrics_null / 5"
   ]
  },
  {
   "cell_type": "code",
   "execution_count": 79,
   "id": "56921d3e-82d2-4f59-b75c-8c694046fa07",
   "metadata": {
    "collapsed": true,
    "jupyter": {
     "outputs_hidden": true
    },
    "tags": []
   },
   "outputs": [
    {
     "name": "stdout",
     "output_type": "stream",
     "text": [
      "Calculating metrics for: raw\n",
      "Calculating metrics for: manufac\n",
      "Random forest OOB: 0.9610337972166998\n",
      "Average ANOVA F-stat: 137.3976729531956\n",
      "Silhouette score: 0.045127574\n",
      "\n",
      "Calculating metrics for: SEX\n",
      "Random forest OOB: 0.9475149105367793\n",
      "Average ANOVA F-stat: 9.213244028555726\n",
      "Silhouette score: 0.005912958\n",
      "\n",
      "Calculating metrics for: DIAGNOSIS\n",
      "Random forest OOB: 0.9184890656063618\n",
      "Average ANOVA F-stat: 88.75727896540633\n",
      "Silhouette score: -0.022121182\n",
      "\n",
      "Calculating metrics for: Random\n",
      "Random forest OOB: 0.5964214711729622\n",
      "Average ANOVA F-stat: 22.26126794168654\n",
      "Silhouette score: 0.0066480753\n",
      "\n",
      "Calculating metrics for: AGE\n",
      "Random forest OOB: 0.733674120183675\n",
      "Average ANOVA F-stat: 14.568891359881794\n",
      "R^2 is: 0.3768544073422111\n",
      "\n",
      "Calculating metrics for: combat\n",
      "Calculating metrics for: manufac\n",
      "Random forest OOB: 0.9455268389662028\n",
      "Average ANOVA F-stat: 0.8572056435181923\n",
      "Silhouette score: 0.00348137628819502\n",
      "\n",
      "Calculating metrics for: SEX\n",
      "Random forest OOB: 0.9467196819085487\n",
      "Average ANOVA F-stat: 8.96278507867257\n",
      "Silhouette score: 0.006606546074507514\n",
      "\n",
      "Calculating metrics for: DIAGNOSIS\n",
      "Random forest OOB: 0.921272365805169\n",
      "Average ANOVA F-stat: 95.58737943410306\n",
      "Silhouette score: -0.02174600566123515\n",
      "\n",
      "Calculating metrics for: Random\n",
      "Random forest OOB: 0.579324055666004\n",
      "Average ANOVA F-stat: 1.0754268119998842\n",
      "Silhouette score: -0.00039500056573403856\n",
      "\n",
      "Calculating metrics for: AGE\n",
      "Random forest OOB: 0.7338860903692885\n",
      "Average ANOVA F-stat: 14.5257036763197\n",
      "R^2 is: 0.38386102973727876\n",
      "\n",
      "Calculating metrics for: covbat\n",
      "Calculating metrics for: manufac\n",
      "Random forest OOB: 0.9495029821073558\n",
      "Average ANOVA F-stat: 0.731833264437868\n",
      "Silhouette score: 0.003773719030763622\n",
      "\n",
      "Calculating metrics for: SEX\n",
      "Random forest OOB: 0.9510934393638171\n",
      "Average ANOVA F-stat: 8.956595768789677\n",
      "Silhouette score: 0.006730772740757632\n",
      "\n",
      "Calculating metrics for: DIAGNOSIS\n",
      "Random forest OOB: 0.9085487077534792\n",
      "Average ANOVA F-stat: 95.35641258700213\n",
      "Silhouette score: -0.021540393363683158\n",
      "\n",
      "Calculating metrics for: Random\n",
      "Random forest OOB: 0.5773359840954274\n",
      "Average ANOVA F-stat: 1.029489261527978\n",
      "Silhouette score: -0.0003879332524405761\n",
      "\n",
      "Calculating metrics for: AGE\n",
      "Random forest OOB: 0.7350879377691127\n",
      "Average ANOVA F-stat: 14.511189688143716\n",
      "R^2 is: 0.3833717952092135\n",
      "\n"
     ]
    }
   ],
   "source": [
    "metrics_list = evaluate_all_clusters(adata, [\"raw\", \"combat\", \"covbat\"], [], [\"manufac\", \"SEX\", \"DIAGNOSIS\", \"Random\"], [\"AGE\"], verbose = True)"
   ]
  },
  {
   "cell_type": "code",
   "execution_count": 90,
   "id": "d270247a-bb6d-42ff-8815-19aa7ddc381d",
   "metadata": {},
   "outputs": [],
   "source": [
    "metrics_list_total = metrics_list.append(metrics_scvi_posterior).append(metrics_null)"
   ]
  },
  {
   "cell_type": "code",
   "execution_count": 92,
   "id": "61c73bae-9a0b-4afa-9d7b-0ca787ccda17",
   "metadata": {},
   "outputs": [
    {
     "data": {
      "text/html": [
       "<div>\n",
       "<style scoped>\n",
       "    .dataframe tbody tr th:only-of-type {\n",
       "        vertical-align: middle;\n",
       "    }\n",
       "\n",
       "    .dataframe tbody tr th {\n",
       "        vertical-align: top;\n",
       "    }\n",
       "\n",
       "    .dataframe thead th {\n",
       "        text-align: right;\n",
       "    }\n",
       "</style>\n",
       "<table border=\"1\" class=\"dataframe\">\n",
       "  <thead>\n",
       "    <tr style=\"text-align: right;\">\n",
       "      <th></th>\n",
       "      <th>manufac_rf</th>\n",
       "      <th>manufac_anova</th>\n",
       "      <th>manufac_asw</th>\n",
       "      <th>sex_rf</th>\n",
       "      <th>sex_anova</th>\n",
       "      <th>sex_asw</th>\n",
       "      <th>diagnosis_rf</th>\n",
       "      <th>diagnosis_anova</th>\n",
       "      <th>diagnosis_asw</th>\n",
       "      <th>random_rf</th>\n",
       "      <th>random_anova</th>\n",
       "      <th>random_asw</th>\n",
       "      <th>age_rf</th>\n",
       "      <th>age_anova</th>\n",
       "      <th>age_r2</th>\n",
       "    </tr>\n",
       "  </thead>\n",
       "  <tbody>\n",
       "    <tr>\n",
       "      <th>raw</th>\n",
       "      <td>0.961034</td>\n",
       "      <td>137.397673</td>\n",
       "      <td>0.045128</td>\n",
       "      <td>0.947515</td>\n",
       "      <td>9.213244</td>\n",
       "      <td>0.005913</td>\n",
       "      <td>0.918489</td>\n",
       "      <td>88.757279</td>\n",
       "      <td>-0.022121</td>\n",
       "      <td>0.596421</td>\n",
       "      <td>22.261268</td>\n",
       "      <td>0.006648</td>\n",
       "      <td>0.733674</td>\n",
       "      <td>14.568891</td>\n",
       "      <td>0.376854</td>\n",
       "    </tr>\n",
       "    <tr>\n",
       "      <th>combat</th>\n",
       "      <td>0.945527</td>\n",
       "      <td>0.857206</td>\n",
       "      <td>0.003481</td>\n",
       "      <td>0.946720</td>\n",
       "      <td>8.962785</td>\n",
       "      <td>0.006607</td>\n",
       "      <td>0.921272</td>\n",
       "      <td>95.587379</td>\n",
       "      <td>-0.021746</td>\n",
       "      <td>0.579324</td>\n",
       "      <td>1.075427</td>\n",
       "      <td>-0.000395</td>\n",
       "      <td>0.733886</td>\n",
       "      <td>14.525704</td>\n",
       "      <td>0.383861</td>\n",
       "    </tr>\n",
       "    <tr>\n",
       "      <th>covbat</th>\n",
       "      <td>0.949503</td>\n",
       "      <td>0.731833</td>\n",
       "      <td>0.003774</td>\n",
       "      <td>0.951093</td>\n",
       "      <td>8.956596</td>\n",
       "      <td>0.006731</td>\n",
       "      <td>0.908549</td>\n",
       "      <td>95.356413</td>\n",
       "      <td>-0.021540</td>\n",
       "      <td>0.577336</td>\n",
       "      <td>1.029489</td>\n",
       "      <td>-0.000388</td>\n",
       "      <td>0.735088</td>\n",
       "      <td>14.511190</td>\n",
       "      <td>0.383372</td>\n",
       "    </tr>\n",
       "    <tr>\n",
       "      <th>scvi_posterior</th>\n",
       "      <td>0.919284</td>\n",
       "      <td>126.970377</td>\n",
       "      <td>0.043771</td>\n",
       "      <td>0.946322</td>\n",
       "      <td>11.862771</td>\n",
       "      <td>0.008487</td>\n",
       "      <td>0.916899</td>\n",
       "      <td>106.266993</td>\n",
       "      <td>-0.022129</td>\n",
       "      <td>0.596819</td>\n",
       "      <td>21.407478</td>\n",
       "      <td>0.006159</td>\n",
       "      <td>0.777983</td>\n",
       "      <td>16.009306</td>\n",
       "      <td>0.646002</td>\n",
       "    </tr>\n",
       "    <tr>\n",
       "      <th>null</th>\n",
       "      <td>0.541312</td>\n",
       "      <td>0.799986</td>\n",
       "      <td>0.001410</td>\n",
       "      <td>0.526521</td>\n",
       "      <td>0.747344</td>\n",
       "      <td>-0.000731</td>\n",
       "      <td>0.445249</td>\n",
       "      <td>1.119629</td>\n",
       "      <td>-0.008680</td>\n",
       "      <td>0.505050</td>\n",
       "      <td>0.600001</td>\n",
       "      <td>0.000145</td>\n",
       "      <td>-0.127591</td>\n",
       "      <td>0.679756</td>\n",
       "      <td>0.020622</td>\n",
       "    </tr>\n",
       "  </tbody>\n",
       "</table>\n",
       "</div>"
      ],
      "text/plain": [
       "                manufac_rf  manufac_anova  manufac_asw    sex_rf  sex_anova  \\\n",
       "raw               0.961034     137.397673     0.045128  0.947515   9.213244   \n",
       "combat            0.945527       0.857206     0.003481  0.946720   8.962785   \n",
       "covbat            0.949503       0.731833     0.003774  0.951093   8.956596   \n",
       "scvi_posterior    0.919284     126.970377     0.043771  0.946322  11.862771   \n",
       "null              0.541312       0.799986     0.001410  0.526521   0.747344   \n",
       "\n",
       "                 sex_asw  diagnosis_rf  diagnosis_anova  diagnosis_asw  \\\n",
       "raw             0.005913      0.918489        88.757279      -0.022121   \n",
       "combat          0.006607      0.921272        95.587379      -0.021746   \n",
       "covbat          0.006731      0.908549        95.356413      -0.021540   \n",
       "scvi_posterior  0.008487      0.916899       106.266993      -0.022129   \n",
       "null           -0.000731      0.445249         1.119629      -0.008680   \n",
       "\n",
       "                random_rf  random_anova  random_asw    age_rf  age_anova  \\\n",
       "raw              0.596421     22.261268    0.006648  0.733674  14.568891   \n",
       "combat           0.579324      1.075427   -0.000395  0.733886  14.525704   \n",
       "covbat           0.577336      1.029489   -0.000388  0.735088  14.511190   \n",
       "scvi_posterior   0.596819     21.407478    0.006159  0.777983  16.009306   \n",
       "null             0.505050      0.600001    0.000145 -0.127591   0.679756   \n",
       "\n",
       "                  age_r2  \n",
       "raw             0.376854  \n",
       "combat          0.383861  \n",
       "covbat          0.383372  \n",
       "scvi_posterior  0.646002  \n",
       "null            0.020622  "
      ]
     },
     "execution_count": 92,
     "metadata": {},
     "output_type": "execute_result"
    }
   ],
   "source": [
    "metrics_df = pd.DataFrame(metrics_list_total)\n",
    "metrics_df.set_axis([\"raw\", \"combat\", \"covbat\", \"scvi_posterior\", \"null\"], axis = 0, inplace = True)\n",
    "metrics_df.set_axis([\"manufac_rf\", \"manufac_anova\", \"manufac_asw\",\n",
    "                    \"sex_rf\", \"sex_anova\", \"sex_asw\",\n",
    "                    \"diagnosis_rf\", \"diagnosis_anova\", \"diagnosis_asw\",\n",
    "                    \"random_rf\", \"random_anova\", \"random_asw\",\n",
    "                    \"age_rf\", \"age_anova\", \"age_r2\"], axis = 1, inplace = True)\n",
    "metrics_df"
   ]
  },
  {
   "cell_type": "code",
   "execution_count": 93,
   "id": "13ccce21-07a4-4881-a3a1-191877f277cf",
   "metadata": {},
   "outputs": [
    {
     "data": {
      "text/html": [
       "<div>\n",
       "<style scoped>\n",
       "    .dataframe tbody tr th:only-of-type {\n",
       "        vertical-align: middle;\n",
       "    }\n",
       "\n",
       "    .dataframe tbody tr th {\n",
       "        vertical-align: top;\n",
       "    }\n",
       "\n",
       "    .dataframe thead th {\n",
       "        text-align: right;\n",
       "    }\n",
       "</style>\n",
       "<table border=\"1\" class=\"dataframe\">\n",
       "  <thead>\n",
       "    <tr style=\"text-align: right;\">\n",
       "      <th></th>\n",
       "      <th>manufac_rf</th>\n",
       "      <th>manufac_anova</th>\n",
       "      <th>manufac_asw</th>\n",
       "      <th>sex_rf</th>\n",
       "      <th>sex_anova</th>\n",
       "      <th>sex_asw</th>\n",
       "      <th>diagnosis_rf</th>\n",
       "      <th>diagnosis_anova</th>\n",
       "      <th>diagnosis_asw</th>\n",
       "      <th>random_rf</th>\n",
       "      <th>random_anova</th>\n",
       "      <th>random_asw</th>\n",
       "      <th>age_rf</th>\n",
       "      <th>age_anova</th>\n",
       "      <th>age_r2</th>\n",
       "    </tr>\n",
       "  </thead>\n",
       "  <tbody>\n",
       "    <tr>\n",
       "      <th>raw</th>\n",
       "      <td>1.0</td>\n",
       "      <td>1.0</td>\n",
       "      <td>1.0</td>\n",
       "      <td>2.0</td>\n",
       "      <td>2.0</td>\n",
       "      <td>4.0</td>\n",
       "      <td>2.0</td>\n",
       "      <td>4.0</td>\n",
       "      <td>4.0</td>\n",
       "      <td>2.0</td>\n",
       "      <td>1.0</td>\n",
       "      <td>1.0</td>\n",
       "      <td>4.0</td>\n",
       "      <td>2.0</td>\n",
       "      <td>4.0</td>\n",
       "    </tr>\n",
       "    <tr>\n",
       "      <th>combat</th>\n",
       "      <td>3.0</td>\n",
       "      <td>3.0</td>\n",
       "      <td>4.0</td>\n",
       "      <td>3.0</td>\n",
       "      <td>3.0</td>\n",
       "      <td>3.0</td>\n",
       "      <td>1.0</td>\n",
       "      <td>2.0</td>\n",
       "      <td>3.0</td>\n",
       "      <td>3.0</td>\n",
       "      <td>3.0</td>\n",
       "      <td>5.0</td>\n",
       "      <td>3.0</td>\n",
       "      <td>3.0</td>\n",
       "      <td>2.0</td>\n",
       "    </tr>\n",
       "    <tr>\n",
       "      <th>covbat</th>\n",
       "      <td>2.0</td>\n",
       "      <td>5.0</td>\n",
       "      <td>3.0</td>\n",
       "      <td>1.0</td>\n",
       "      <td>4.0</td>\n",
       "      <td>2.0</td>\n",
       "      <td>4.0</td>\n",
       "      <td>3.0</td>\n",
       "      <td>2.0</td>\n",
       "      <td>4.0</td>\n",
       "      <td>4.0</td>\n",
       "      <td>4.0</td>\n",
       "      <td>2.0</td>\n",
       "      <td>4.0</td>\n",
       "      <td>3.0</td>\n",
       "    </tr>\n",
       "    <tr>\n",
       "      <th>scvi_posterior</th>\n",
       "      <td>4.0</td>\n",
       "      <td>2.0</td>\n",
       "      <td>2.0</td>\n",
       "      <td>4.0</td>\n",
       "      <td>1.0</td>\n",
       "      <td>1.0</td>\n",
       "      <td>3.0</td>\n",
       "      <td>1.0</td>\n",
       "      <td>5.0</td>\n",
       "      <td>1.0</td>\n",
       "      <td>2.0</td>\n",
       "      <td>2.0</td>\n",
       "      <td>1.0</td>\n",
       "      <td>1.0</td>\n",
       "      <td>1.0</td>\n",
       "    </tr>\n",
       "    <tr>\n",
       "      <th>null</th>\n",
       "      <td>5.0</td>\n",
       "      <td>4.0</td>\n",
       "      <td>5.0</td>\n",
       "      <td>5.0</td>\n",
       "      <td>5.0</td>\n",
       "      <td>5.0</td>\n",
       "      <td>5.0</td>\n",
       "      <td>5.0</td>\n",
       "      <td>1.0</td>\n",
       "      <td>5.0</td>\n",
       "      <td>5.0</td>\n",
       "      <td>3.0</td>\n",
       "      <td>5.0</td>\n",
       "      <td>5.0</td>\n",
       "      <td>5.0</td>\n",
       "    </tr>\n",
       "  </tbody>\n",
       "</table>\n",
       "</div>"
      ],
      "text/plain": [
       "                manufac_rf  manufac_anova  manufac_asw  sex_rf  sex_anova  \\\n",
       "raw                    1.0            1.0          1.0     2.0        2.0   \n",
       "combat                 3.0            3.0          4.0     3.0        3.0   \n",
       "covbat                 2.0            5.0          3.0     1.0        4.0   \n",
       "scvi_posterior         4.0            2.0          2.0     4.0        1.0   \n",
       "null                   5.0            4.0          5.0     5.0        5.0   \n",
       "\n",
       "                sex_asw  diagnosis_rf  diagnosis_anova  diagnosis_asw  \\\n",
       "raw                 4.0           2.0              4.0            4.0   \n",
       "combat              3.0           1.0              2.0            3.0   \n",
       "covbat              2.0           4.0              3.0            2.0   \n",
       "scvi_posterior      1.0           3.0              1.0            5.0   \n",
       "null                5.0           5.0              5.0            1.0   \n",
       "\n",
       "                random_rf  random_anova  random_asw  age_rf  age_anova  age_r2  \n",
       "raw                   2.0           1.0         1.0     4.0        2.0     4.0  \n",
       "combat                3.0           3.0         5.0     3.0        3.0     2.0  \n",
       "covbat                4.0           4.0         4.0     2.0        4.0     3.0  \n",
       "scvi_posterior        1.0           2.0         2.0     1.0        1.0     1.0  \n",
       "null                  5.0           5.0         3.0     5.0        5.0     5.0  "
      ]
     },
     "execution_count": 93,
     "metadata": {},
     "output_type": "execute_result"
    }
   ],
   "source": [
    "metrics_df.rank(axis = 0, ascending = False)"
   ]
  },
  {
   "cell_type": "code",
   "execution_count": 20,
   "id": "2ed5522f-64ab-47e2-a164-fc319e5bf700",
   "metadata": {},
   "outputs": [
    {
     "name": "stderr",
     "output_type": "stream",
     "text": [
      "... storing 'ID' as categorical\n",
      "... storing 'visit' as categorical\n",
      "... storing 'EXAM_DATE' as categorical\n",
      "... storing 'dateAcquired' as categorical\n",
      "... storing 'SEX' as categorical\n",
      "... storing 'DIAGNOSIS' as categorical\n",
      "... storing 'manufac.model' as categorical\n",
      "... storing 'manufac.model.site' as categorical\n"
     ]
    },
    {
     "name": "stdout",
     "output_type": "stream",
     "text": [
      "Plots for: raw\n",
      "UMAP\n"
     ]
    },
    {
     "name": "stderr",
     "output_type": "stream",
     "text": [
      "... storing 'manufac.model.strength.site' as categorical\n",
      "... storing 'manufac.model.coil.site' as categorical\n",
      "... storing 'manufac.model.coil.strength.site' as categorical\n",
      "... storing 'strength' as categorical\n",
      "... storing 'Manufacturer' as categorical\n",
      "... storing 'Mfg_Model' as categorical\n",
      "... storing 'Weighting' as categorical\n",
      "... storing 'Pulse_Sequence' as categorical\n",
      "... storing 'Coil' as categorical\n",
      "... storing 'Acquisition_Plane' as categorical\n",
      "... storing 'Random' as categorical\n"
     ]
    },
    {
     "ename": "TypeError",
     "evalue": "The numpy boolean negative, the `-` operator, is not supported, use the `~` operator or the logical_not function instead.",
     "output_type": "error",
     "traceback": [
      "\u001b[0;31m---------------------------------------------------------------------------\u001b[0m",
      "\u001b[0;31mTypeError\u001b[0m                                 Traceback (most recent call last)",
      "\u001b[0;32m/scratch/ipykernel_180207/3088989040.py\u001b[0m in \u001b[0;36m<module>\u001b[0;34m\u001b[0m\n\u001b[1;32m      1\u001b[0m \u001b[0mto_view\u001b[0m \u001b[0;34m=\u001b[0m \u001b[0;34m[\u001b[0m\u001b[0;34m\"strength\"\u001b[0m\u001b[0;34m,\u001b[0m \u001b[0;34m\"manufac\"\u001b[0m\u001b[0;34m,\u001b[0m \u001b[0;34m\"DIAGNOSIS\"\u001b[0m\u001b[0;34m,\u001b[0m \u001b[0;34m\"AGE\"\u001b[0m\u001b[0;34m]\u001b[0m\u001b[0;34m\u001b[0m\u001b[0;34m\u001b[0m\u001b[0m\n\u001b[0;32m----> 2\u001b[0;31m \u001b[0mplot_pca_umap\u001b[0m\u001b[0;34m(\u001b[0m\u001b[0madata\u001b[0m\u001b[0;34m,\u001b[0m \u001b[0;34m\"raw\"\u001b[0m\u001b[0;34m,\u001b[0m \u001b[0;36m0.02\u001b[0m\u001b[0;34m,\u001b[0m \u001b[0mcolor\u001b[0m \u001b[0;34m=\u001b[0m \u001b[0mto_view\u001b[0m\u001b[0;34m)\u001b[0m\u001b[0;34m\u001b[0m\u001b[0;34m\u001b[0m\u001b[0m\n\u001b[0m\u001b[1;32m      3\u001b[0m \u001b[0mplot_pca_umap\u001b[0m\u001b[0;34m(\u001b[0m\u001b[0madata\u001b[0m\u001b[0;34m,\u001b[0m \u001b[0;34m\"combat\"\u001b[0m\u001b[0;34m,\u001b[0m \u001b[0;36m0.02\u001b[0m\u001b[0;34m,\u001b[0m \u001b[0mcolor\u001b[0m \u001b[0;34m=\u001b[0m \u001b[0mto_view\u001b[0m\u001b[0;34m)\u001b[0m\u001b[0;34m\u001b[0m\u001b[0;34m\u001b[0m\u001b[0m\n\u001b[1;32m      4\u001b[0m \u001b[0mplot_pca_umap\u001b[0m\u001b[0;34m(\u001b[0m\u001b[0madata\u001b[0m\u001b[0;34m,\u001b[0m \u001b[0;34m\"covbat\"\u001b[0m\u001b[0;34m,\u001b[0m \u001b[0;36m0.02\u001b[0m\u001b[0;34m,\u001b[0m \u001b[0mcolor\u001b[0m \u001b[0;34m=\u001b[0m \u001b[0mto_view\u001b[0m\u001b[0;34m)\u001b[0m\u001b[0;34m\u001b[0m\u001b[0;34m\u001b[0m\u001b[0m\n\u001b[1;32m      5\u001b[0m \u001b[0mplot_pca_umap\u001b[0m\u001b[0;34m(\u001b[0m\u001b[0madata\u001b[0m\u001b[0;34m,\u001b[0m \u001b[0;34m\"scvi_posterior\"\u001b[0m\u001b[0;34m,\u001b[0m \u001b[0;36m0.02\u001b[0m\u001b[0;34m,\u001b[0m \u001b[0mcolor\u001b[0m \u001b[0;34m=\u001b[0m \u001b[0mto_view\u001b[0m\u001b[0;34m)\u001b[0m\u001b[0;34m\u001b[0m\u001b[0;34m\u001b[0m\u001b[0m\n",
      "\u001b[0;32m/scratch/ipykernel_180207/2524057114.py\u001b[0m in \u001b[0;36mplot_pca_umap\u001b[0;34m(adata, layer_key, umap_min_dist, color, use_obsm)\u001b[0m\n\u001b[1;32m     13\u001b[0m     \u001b[0mprint\u001b[0m\u001b[0;34m(\u001b[0m\u001b[0;34m\"Plots for: \"\u001b[0m \u001b[0;34m+\u001b[0m \u001b[0mlayer_key\u001b[0m\u001b[0;34m)\u001b[0m\u001b[0;34m\u001b[0m\u001b[0;34m\u001b[0m\u001b[0m\n\u001b[1;32m     14\u001b[0m     \u001b[0mprint\u001b[0m\u001b[0;34m(\u001b[0m\u001b[0;34m\"UMAP\"\u001b[0m\u001b[0;34m)\u001b[0m\u001b[0;34m\u001b[0m\u001b[0;34m\u001b[0m\u001b[0m\n\u001b[0;32m---> 15\u001b[0;31m     sc.pl.umap(adata_tmp,\n\u001b[0m\u001b[1;32m     16\u001b[0m            \u001b[0mcolor\u001b[0m \u001b[0;34m=\u001b[0m \u001b[0mcolor\u001b[0m\u001b[0;34m,\u001b[0m\u001b[0;34m\u001b[0m\u001b[0;34m\u001b[0m\u001b[0m\n\u001b[1;32m     17\u001b[0m            frameon = False,)\n",
      "\u001b[0;32m~/software/pkg/mamba/envs/nnbatch-env/lib/python3.9/site-packages/scanpy/plotting/_tools/scatterplots.py\u001b[0m in \u001b[0;36mumap\u001b[0;34m(adata, **kwargs)\u001b[0m\n\u001b[1;32m    657\u001b[0m     \u001b[0mtl\u001b[0m\u001b[0;34m.\u001b[0m\u001b[0mumap\u001b[0m\u001b[0;34m\u001b[0m\u001b[0;34m\u001b[0m\u001b[0m\n\u001b[1;32m    658\u001b[0m     \"\"\"\n\u001b[0;32m--> 659\u001b[0;31m     \u001b[0;32mreturn\u001b[0m \u001b[0membedding\u001b[0m\u001b[0;34m(\u001b[0m\u001b[0madata\u001b[0m\u001b[0;34m,\u001b[0m \u001b[0;34m'umap'\u001b[0m\u001b[0;34m,\u001b[0m \u001b[0;34m**\u001b[0m\u001b[0mkwargs\u001b[0m\u001b[0;34m)\u001b[0m\u001b[0;34m\u001b[0m\u001b[0;34m\u001b[0m\u001b[0m\n\u001b[0m\u001b[1;32m    660\u001b[0m \u001b[0;34m\u001b[0m\u001b[0m\n\u001b[1;32m    661\u001b[0m \u001b[0;34m\u001b[0m\u001b[0m\n",
      "\u001b[0;32m~/software/pkg/mamba/envs/nnbatch-env/lib/python3.9/site-packages/scanpy/plotting/_tools/scatterplots.py\u001b[0m in \u001b[0;36membedding\u001b[0;34m(adata, basis, color, gene_symbols, use_raw, sort_order, edges, edges_width, edges_color, neighbors_key, arrows, arrows_kwds, groups, components, layer, projection, scale_factor, color_map, cmap, palette, na_color, na_in_legend, size, frameon, legend_fontsize, legend_fontweight, legend_loc, legend_fontoutline, vmax, vmin, vcenter, norm, add_outline, outline_width, outline_color, ncols, hspace, wspace, title, show, save, ax, return_fig, **kwargs)\u001b[0m\n\u001b[1;32m    262\u001b[0m         \u001b[0;32mif\u001b[0m \u001b[0msort_order\u001b[0m \u001b[0;32mis\u001b[0m \u001b[0;32mTrue\u001b[0m \u001b[0;32mand\u001b[0m \u001b[0mvalue_to_plot\u001b[0m \u001b[0;32mis\u001b[0m \u001b[0;32mnot\u001b[0m \u001b[0;32mNone\u001b[0m \u001b[0;32mand\u001b[0m \u001b[0mcategorical\u001b[0m \u001b[0;32mis\u001b[0m \u001b[0;32mFalse\u001b[0m\u001b[0;34m:\u001b[0m\u001b[0;34m\u001b[0m\u001b[0;34m\u001b[0m\u001b[0m\n\u001b[1;32m    263\u001b[0m             \u001b[0;31m# Higher values plotted on top, null values on bottom\u001b[0m\u001b[0;34m\u001b[0m\u001b[0;34m\u001b[0m\u001b[0m\n\u001b[0;32m--> 264\u001b[0;31m             \u001b[0morder\u001b[0m \u001b[0;34m=\u001b[0m \u001b[0mnp\u001b[0m\u001b[0;34m.\u001b[0m\u001b[0margsort\u001b[0m\u001b[0;34m(\u001b[0m\u001b[0;34m-\u001b[0m\u001b[0mcolor_vector\u001b[0m\u001b[0;34m,\u001b[0m \u001b[0mkind\u001b[0m\u001b[0;34m=\u001b[0m\u001b[0;34m\"stable\"\u001b[0m\u001b[0;34m)\u001b[0m\u001b[0;34m[\u001b[0m\u001b[0;34m:\u001b[0m\u001b[0;34m:\u001b[0m\u001b[0;34m-\u001b[0m\u001b[0;36m1\u001b[0m\u001b[0;34m]\u001b[0m\u001b[0;34m\u001b[0m\u001b[0;34m\u001b[0m\u001b[0m\n\u001b[0m\u001b[1;32m    265\u001b[0m         \u001b[0;32melif\u001b[0m \u001b[0msort_order\u001b[0m \u001b[0;32mand\u001b[0m \u001b[0mcategorical\u001b[0m\u001b[0;34m:\u001b[0m\u001b[0;34m\u001b[0m\u001b[0;34m\u001b[0m\u001b[0m\n\u001b[1;32m    266\u001b[0m             \u001b[0;31m# Null points go on bottom\u001b[0m\u001b[0;34m\u001b[0m\u001b[0;34m\u001b[0m\u001b[0m\n",
      "\u001b[0;31mTypeError\u001b[0m: The numpy boolean negative, the `-` operator, is not supported, use the `~` operator or the logical_not function instead."
     ]
    },
    {
     "data": {
      "image/png": "[encoded data removed]",
      "text/plain": [
       "<Figure size 1978.56x288 with 1 Axes>"
      ]
     },
     "metadata": {},
     "output_type": "display_data"
    }
   ],
   "source": [
    "to_view = [\"strength\", \"manufac\", \"DIAGNOSIS\", \"AGE\"]\n",
    "plot_pca_umap(adata, \"raw\", 0.02, color = to_view)\n",
    "plot_pca_umap(adata, \"combat\", 0.02, color = to_view)\n",
    "plot_pca_umap(adata, \"covbat\", 0.02, color = to_view)\n",
    "plot_pca_umap(adata, \"scvi_posterior\", 0.02, color = to_view)"
   ]
  },
  {
   "cell_type": "code",
   "execution_count": 45,
   "id": "3edb56e6-b576-4689-b97f-a7a129154655",
   "metadata": {},
   "outputs": [],
   "source": [
    "np.savetxt(\"scvi_posterior.csv\", adata.layers[\"scvi_posterior\"], delimiter=\",\")\n",
    "np.savetxt(\"combat_scvi.csv\", adata.layers[\"combat_scvi\"], delimiter=\",\")\n",
    "np.savetxt(\"scvi_combat.csv\", adata.layers[\"scvi_combat\"], delimiter=\",\")\n",
    "np.savetxt(\"combat.csv\", adata.layers[\"combat\"], delimiter=\",\")\n",
    "np.savetxt(\"covbat.csv\", adata.layers[\"covbat\"], delimiter=\",\")\n",
    "np.savetxt(\"raw.csv\", adata.layers[\"raw\"], delimiter=\",\")\n",
    "adata.obs.to_csv(\"covariates.csv\")\n",
    "np.savetxt(\"scvi_latent.csv\", adata.obsm[\"scvi\"], delimiter=\",\")"
   ]
  },
  {
   "cell_type": "code",
   "execution_count": 99,
   "id": "39d13113-2503-4dee-9fcc-476cafb47033",
   "metadata": {},
   "outputs": [],
   "source": [
    "raw_scvi_corr = pd.DataFrame(np.corrcoef(adata.X, adata.layers[\"scvi_posterior\"])[2515:, :2515])"
   ]
  },
  {
   "cell_type": "code",
   "execution_count": 115,
   "id": "0ca2d607-5d37-4c14-98e1-9835824163d4",
   "metadata": {},
   "outputs": [],
   "source": [
    "raw_scvi_corr.columns = adni_all[\"subid\"]\n",
    "raw_scvi_corr.set_axis(adni_all[\"subid\"], axis = 0, inplace = True)"
   ]
  },
  {
   "cell_type": "code",
   "execution_count": 117,
   "id": "712f7ca0-9922-4fcb-8f47-f5ae14ef0c91",
   "metadata": {},
   "outputs": [
    {
     "data": {
      "text/plain": [
       "<matplotlib.image.AxesImage at 0x7f15fc37bac0>"
      ]
     },
     "execution_count": 117,
     "metadata": {},
     "output_type": "execute_result"
    },
    {
     "data": {
      "image/png": "[encoded data removed]",
      "text/plain": [
       "<Figure size 288x288 with 1 Axes>"
      ]
     },
     "metadata": {
      "needs_background": "light"
     },
     "output_type": "display_data"
    }
   ],
   "source": [
    "plt.matshow(raw_scvi_corr)"
   ]
  },
  {
   "cell_type": "code",
   "execution_count": 118,
   "id": "b163005b-53ad-4b38-b6ad-31d982321b4b",
   "metadata": {},
   "outputs": [],
   "source": [
    "corr_pairs = raw_scvi_corr.unstack()"
   ]
  },
  {
   "cell_type": "code",
   "execution_count": 166,
   "id": "3d51624f-f54a-4d1c-b43d-2c87699021c6",
   "metadata": {},
   "outputs": [],
   "source": [
    "sorted_pairs = corr_pairs.sort_values(kind=\"quicksort\", ascending=False)"
   ]
  },
  {
   "cell_type": "code",
   "execution_count": 168,
   "id": "bf6b4c5b-7968-4449-9398-b0955d6f7e55",
   "metadata": {},
   "outputs": [],
   "source": [
    "sorted_pairs_df = pd.DataFrame(sorted_pairs)"
   ]
  },
  {
   "cell_type": "code",
   "execution_count": 125,
   "id": "bd91c66b-899c-40a0-97cf-e578db3caca5",
   "metadata": {},
   "outputs": [
    {
     "data": {
      "text/plain": [
       "(array([3.300000e+01, 5.400000e+01, 1.630000e+02, 4.440000e+02,\n",
       "        1.024000e+03, 2.052000e+03, 3.799000e+03, 6.222000e+03,\n",
       "        8.747000e+03, 1.056900e+04, 1.301300e+04, 1.601100e+04,\n",
       "        1.871700e+04, 2.153500e+04, 2.419900e+04, 2.948300e+04,\n",
       "        3.821500e+04, 5.065900e+04, 6.730700e+04, 8.981600e+04,\n",
       "        1.196080e+05, 1.619740e+05, 2.338050e+05, 3.641190e+05,\n",
       "        5.982240e+05, 9.355320e+05, 1.331823e+06, 1.463503e+06,\n",
       "        6.857220e+05, 2.885300e+04]),\n",
       " array([-0.1293624 , -0.09183872, -0.05431504, -0.01679136,  0.02073232,\n",
       "         0.058256  ,  0.09577967,  0.13330335,  0.17082703,  0.20835071,\n",
       "         0.24587439,  0.28339807,  0.32092175,  0.35844542,  0.3959691 ,\n",
       "         0.43349278,  0.47101646,  0.50854014,  0.54606382,  0.5835875 ,\n",
       "         0.62111118,  0.65863485,  0.69615853,  0.73368221,  0.77120589,\n",
       "         0.80872957,  0.84625325,  0.88377693,  0.9213006 ,  0.95882428,\n",
       "         0.99634796]),\n",
       " <BarContainer object of 30 artists>)"
      ]
     },
     "execution_count": 125,
     "metadata": {},
     "output_type": "execute_result"
    },
    {
     "data": {
      "image/png": "[encoded data removed]",
      "text/plain": [
       "<Figure size 432x288 with 1 Axes>"
      ]
     },
     "metadata": {
      "needs_background": "light"
     },
     "output_type": "display_data"
    }
   ],
   "source": [
    "plt.hist(sorted_pairs, bins = 30)"
   ]
  },
  {
   "cell_type": "code",
   "execution_count": 132,
   "id": "b6e016d1-e02a-472a-bedd-796a4cece706",
   "metadata": {},
   "outputs": [],
   "source": [
    "unique_counts = np.unique(adni_all[\"subid\"], return_counts=True)[1]"
   ]
  },
  {
   "cell_type": "code",
   "execution_count": 134,
   "id": "426660be-a6fc-4c85-a761-b1acf3cf5fe0",
   "metadata": {},
   "outputs": [
    {
     "data": {
      "text/plain": [
       "10447"
      ]
     },
     "execution_count": 134,
     "metadata": {},
     "output_type": "execute_result"
    }
   ],
   "source": [
    "n_high_corrs = np.sum(unique_counts**2)\n",
    "n_high_corrs"
   ]
  },
  {
   "cell_type": "code",
   "execution_count": null,
   "id": "6836a26b-d8db-412d-a30b-d15a69897cf8",
   "metadata": {},
   "outputs": [],
   "source": []
  }
 ],
 "metadata": {
  "kernelspec": {
   "display_name": "nnbatch-env",
   "language": "python",
   "name": "nnbatch-env"
  },
  "language_info": {
   "codemirror_mode": {
    "name": "ipython",
    "version": 3
   },
   "file_extension": ".py",
   "mimetype": "text/x-python",
   "name": "python",
   "nbconvert_exporter": "python",
   "pygments_lexer": "ipython3",
   "version": "3.9.7"
  }
 },
 "nbformat": 4,
 "nbformat_minor": 5
}
